{
 "cells": [
  {
   "cell_type": "markdown",
   "id": "04fe4f2e",
   "metadata": {},
   "source": [
    "<h1><center>Python Basics for Machine Learning - Introduction</center></h1>\n",
    "<h3><center>Reading time: 10 minutes</center></h3>\n",
    "<h4><center>Author: Nikolas Achatz</center></h4>"
   ]
  },
  {
   "cell_type": "markdown",
   "id": "9a1698e7",
   "metadata": {},
   "source": [
    "The goal of the following notebooks are to familiarize you with the basics of Python required for developing modern machine learning models. We will walk through what I believe are the minimum requirements for developing these systems, I certainly advise you to grow your expertise by doing a mini Python project. Moreso, these will be a very quick overview with the assumption you have coded previously (otherwise this might be a tough journey!). These notebooks will follow this structure: Python basics, NumPy basics, and Pandas basics. NumPy and Pandas are libraries that can be imported to use with the Python language and are widely utilized for machine learning. Let's begin!"
   ]
  },
  {
   "cell_type": "code",
   "execution_count": 1,
   "id": "e60ba6d8",
   "metadata": {},
   "outputs": [
    {
     "name": "stdout",
     "output_type": "stream",
     "text": [
      "Hello world! Let's install Python :)\n"
     ]
    }
   ],
   "source": [
    "print(\"Hello world! Let's install Python :)\")"
   ]
  },
  {
   "cell_type": "markdown",
   "id": "72574a1e",
   "metadata": {},
   "source": [
    "Firstly, we need to install the language on our computer. Navigate to this link: https://www.python.org/downloads/ and install the edition required for your operating system. Once this is installed, you may or may not need to restart your system. "
   ]
  },
  {
   "cell_type": "markdown",
   "id": "25d01a65",
   "metadata": {},
   "source": [
    "At this point, open the terminal on your system (search terminal on your operating system if you are not familiar). Type 'python' or 'python3' and the language should open a live coding terminal. At this point, type the code below into the terminal and hit enter - you should see the outputted message!"
   ]
  },
  {
   "cell_type": "code",
   "execution_count": 2,
   "id": "e802880c",
   "metadata": {},
   "outputs": [
    {
     "name": "stdout",
     "output_type": "stream",
     "text": [
      "My very first print statement\n"
     ]
    }
   ],
   "source": [
    "print(\"My very first print statement\")"
   ]
  },
  {
   "cell_type": "markdown",
   "id": "7cccc07e",
   "metadata": {},
   "source": [
    "At this point, I will skip the creation of python files, you can look up how to do this. Let's get started with the basic features of Python we will use extensively."
   ]
  },
  {
   "cell_type": "markdown",
   "id": "da54d302",
   "metadata": {},
   "source": [
    "<center><h2>Variables, loops, and lists!</h2></center>"
   ]
  },
  {
   "cell_type": "markdown",
   "id": "959cd315",
   "metadata": {},
   "source": [
    "Let's start with creating variables. In Python there is no explicit typing, so just throw a name out and assign it to whatever value you want."
   ]
  },
  {
   "cell_type": "code",
   "execution_count": 3,
   "id": "f2d6d686",
   "metadata": {},
   "outputs": [
    {
     "name": "stdout",
     "output_type": "stream",
     "text": [
      "Nikolas\n",
      "23\n",
      "9.5\n"
     ]
    }
   ],
   "source": [
    "my_name = \"Nikolas\"\n",
    "my_age = 23\n",
    "my_score = 9.5\n",
    "\n",
    "print(my_name)\n",
    "print(my_age)\n",
    "print(my_score)"
   ]
  },
  {
   "cell_type": "markdown",
   "id": "7876634c",
   "metadata": {},
   "source": [
    "Loops in Python are relatively simple. We can use the built in 'for' and 'in' keywords to write loops very easily. Effectively, we will say for some value in some set. It could be numbers, items, objects, etc. We can also use the keyword 'range' to give us an idea of how far we want to iterate. Let's try it."
   ]
  },
  {
   "cell_type": "code",
   "execution_count": 46,
   "id": "a8e7c273",
   "metadata": {},
   "outputs": [
    {
     "name": "stdout",
     "output_type": "stream",
     "text": [
      "0\n",
      "1\n",
      "2\n",
      "3\n",
      "4\n",
      "5\n",
      "6\n",
      "7\n",
      "8\n",
      "9\n"
     ]
    }
   ],
   "source": [
    "for number in range(10):\n",
    "    print(number)"
   ]
  },
  {
   "cell_type": "markdown",
   "id": "1abedc8c",
   "metadata": {},
   "source": [
    "Next, we must know how to work with lists. Once more, Python typing is not explicity stated, thus we can indicate we need a list (or array) by utilizing '[]'. "
   ]
  },
  {
   "cell_type": "code",
   "execution_count": 8,
   "id": "39ff2c6b",
   "metadata": {},
   "outputs": [
    {
     "name": "stdout",
     "output_type": "stream",
     "text": [
      "[]\n"
     ]
    }
   ],
   "source": [
    "my_list = []\n",
    "\n",
    "print(my_list)"
   ]
  },
  {
   "cell_type": "markdown",
   "id": "5ed87309",
   "metadata": {},
   "source": [
    "Appending to lists in Python is trivial, simply utilize the built in append functionality. One thing to note about Python lists is that you can append any type, meaning the entire list doesn't need to be of a singular type."
   ]
  },
  {
   "cell_type": "code",
   "execution_count": 9,
   "id": "2697fc84",
   "metadata": {},
   "outputs": [
    {
     "name": "stdout",
     "output_type": "stream",
     "text": [
      "[5, 'hi', ['new_list', 50, 36.03], 56.25]\n"
     ]
    }
   ],
   "source": [
    "my_list.append(5)\n",
    "my_list.append(\"hi\")\n",
    "my_list.append([\"new_list\", 50, 36.03])\n",
    "my_list.append(56.25)\n",
    "\n",
    "print(my_list)"
   ]
  },
  {
   "cell_type": "markdown",
   "id": "831a37b3",
   "metadata": {},
   "source": [
    "Now we can utilize a for loop to iterate through this list."
   ]
  },
  {
   "cell_type": "code",
   "execution_count": 11,
   "id": "22f1d2c2",
   "metadata": {},
   "outputs": [
    {
     "name": "stdout",
     "output_type": "stream",
     "text": [
      "5\n",
      "hi\n",
      "['new_list', 50, 36.03]\n",
      "56.25\n"
     ]
    }
   ],
   "source": [
    "for element in my_list:\n",
    "    print(element)"
   ]
  },
  {
   "cell_type": "markdown",
   "id": "c81d9293",
   "metadata": {},
   "source": [
    "We can also use a loop to append values."
   ]
  },
  {
   "cell_type": "code",
   "execution_count": 47,
   "id": "f8b1fd78",
   "metadata": {},
   "outputs": [
    {
     "name": "stdout",
     "output_type": "stream",
     "text": [
      "[0, 1, 2, 3, 4]\n"
     ]
    }
   ],
   "source": [
    "my_list = []\n",
    "for num in range(5):\n",
    "    my_list.append(num)\n",
    "    \n",
    "print(my_list)"
   ]
  },
  {
   "cell_type": "markdown",
   "id": "8281222c",
   "metadata": {},
   "source": [
    "List Comprehension is a magical tool in Python. It allows us to cleanly input data to a list. Let's explore the above implementation utilizing list comprehension."
   ]
  },
  {
   "cell_type": "code",
   "execution_count": 48,
   "id": "51e88c30",
   "metadata": {},
   "outputs": [
    {
     "ename": "NameError",
     "evalue": "name 'value' is not defined",
     "output_type": "error",
     "traceback": [
      "\u001b[1;31m---------------------------------------------------------------------------\u001b[0m",
      "\u001b[1;31mNameError\u001b[0m                                 Traceback (most recent call last)",
      "Input \u001b[1;32mIn [48]\u001b[0m, in \u001b[0;36m<cell line: 1>\u001b[1;34m()\u001b[0m\n\u001b[1;32m----> 1\u001b[0m my_list \u001b[38;5;241m=\u001b[39m [value \u001b[38;5;28;01mfor\u001b[39;00m num \u001b[38;5;129;01min\u001b[39;00m \u001b[38;5;28mrange\u001b[39m(\u001b[38;5;241m50\u001b[39m)]\n\u001b[0;32m      2\u001b[0m \u001b[38;5;28mprint\u001b[39m(my_list)\n",
      "Input \u001b[1;32mIn [48]\u001b[0m, in \u001b[0;36m<listcomp>\u001b[1;34m(.0)\u001b[0m\n\u001b[1;32m----> 1\u001b[0m my_list \u001b[38;5;241m=\u001b[39m [\u001b[43mvalue\u001b[49m \u001b[38;5;28;01mfor\u001b[39;00m num \u001b[38;5;129;01min\u001b[39;00m \u001b[38;5;28mrange\u001b[39m(\u001b[38;5;241m50\u001b[39m)]\n\u001b[0;32m      2\u001b[0m \u001b[38;5;28mprint\u001b[39m(my_list)\n",
      "\u001b[1;31mNameError\u001b[0m: name 'value' is not defined"
     ]
    }
   ],
   "source": [
    "my_list = [value for num in range(50)]\n",
    "print(my_list)"
   ]
  },
  {
   "cell_type": "markdown",
   "id": "5c7dd918",
   "metadata": {},
   "source": [
    "<center><h2>Dictionaries</h2></center>"
   ]
  },
  {
   "cell_type": "markdown",
   "id": "f9dc1a64",
   "metadata": {},
   "source": [
    "Dictionaries are key-value elements with a very fast look up time. Python dictionaries are very simple to use, in our work together we will utilize the keys as strings and the values as a variety of types. Declaring a dictionary is also trivial, simply utilize '{}'. Just like lists, we can store any type. To store a value we simply index it with our key and set it to the value."
   ]
  },
  {
   "cell_type": "code",
   "execution_count": 12,
   "id": "e8c1c4d6",
   "metadata": {},
   "outputs": [
    {
     "name": "stdout",
     "output_type": "stream",
     "text": [
      "{'nik_age': 23, 'nik_hungry': True}\n"
     ]
    }
   ],
   "source": [
    "my_dictionary = {}\n",
    "my_dictionary[\"nik_age\"] = 23\n",
    "my_dictionary[\"nik_hungry\"] = True\n",
    "\n",
    "print(my_dictionary)"
   ]
  },
  {
   "cell_type": "markdown",
   "id": "f8c2c80b",
   "metadata": {},
   "source": [
    "<center><h2>Classes</h2></center>"
   ]
  },
  {
   "cell_type": "markdown",
   "id": "f8fbbde8",
   "metadata": {},
   "source": [
    "Hopefully, you are familiar with object oriented programming. This is very important topic to understand and I will only be glossing over it. Please ensure you understand classes in Python before moving on!"
   ]
  },
  {
   "cell_type": "markdown",
   "id": "40132feb",
   "metadata": {},
   "source": [
    "Classes are very important for working with PyTorch because our models will be objects. As such, we must understand how to create and work with these. Here I will show you how to create your own class in Python."
   ]
  },
  {
   "cell_type": "code",
   "execution_count": 15,
   "id": "ae515f3e",
   "metadata": {},
   "outputs": [],
   "source": [
    "class NeuralNetwork:\n",
    "    def __init__(self):\n",
    "        self.layers = 0"
   ]
  },
  {
   "cell_type": "markdown",
   "id": "3cd7fff7",
   "metadata": {},
   "source": [
    "Here we created a basic class with the name 'NerualNetwork'. We gave it a constructor (the init) and set the layers count to 0 for every NeuralNetwork object we create. You can easily add parameters to the constructors if you want those values set. You can also set default values if the creation of the object has no passed in arguments."
   ]
  },
  {
   "cell_type": "code",
   "execution_count": 16,
   "id": "153e41ff",
   "metadata": {},
   "outputs": [],
   "source": [
    "class NeuralNetwork:\n",
    "    def __init__(self, layer_count=0):\n",
    "        self.layers = layer_count"
   ]
  },
  {
   "cell_type": "markdown",
   "id": "c8362c65",
   "metadata": {},
   "source": [
    "Next, note we have the 'self' parameter. This is required for us to know that we are modifying the values within our instance of the object. We can add functions to our class like so:"
   ]
  },
  {
   "cell_type": "code",
   "execution_count": 22,
   "id": "60028c9a",
   "metadata": {},
   "outputs": [],
   "source": [
    "class NeuralNetwork:\n",
    "    def __init__(self, layer_count=0):\n",
    "        self.layers = layer_count\n",
    "    \n",
    "    def runModel(self):\n",
    "        output = 0\n",
    "        for layer in range(self.layers):\n",
    "            output += 500\n",
    "        print(output)"
   ]
  },
  {
   "cell_type": "markdown",
   "id": "c7965268",
   "metadata": {},
   "source": [
    "Next, we can instantiate our object and explore the differences based on our implementation."
   ]
  },
  {
   "cell_type": "code",
   "execution_count": 23,
   "id": "9e719ba4",
   "metadata": {},
   "outputs": [
    {
     "name": "stdout",
     "output_type": "stream",
     "text": [
      "25000\n",
      "0\n"
     ]
    }
   ],
   "source": [
    "net1 = NeuralNetwork(50)\n",
    "\n",
    "net2 = NeuralNetwork()\n",
    "\n",
    "net1.runModel()\n",
    "net2.runModel()"
   ]
  },
  {
   "cell_type": "markdown",
   "id": "2cafc2eb",
   "metadata": {},
   "source": [
    "Notice the second model outputted 0. This is because we did not send in any value when we instantiated our object, as such, the layers defaulted to 0."
   ]
  },
  {
   "cell_type": "markdown",
   "id": "c56979f7",
   "metadata": {},
   "source": [
    "<center><h2>Putting it together</h2></center>"
   ]
  },
  {
   "cell_type": "markdown",
   "id": "2c905dd8",
   "metadata": {},
   "source": [
    "Let's now create a mock neural network with neural layers and a variety of implementation details we explored above."
   ]
  },
  {
   "cell_type": "code",
   "execution_count": 45,
   "id": "37fb4950",
   "metadata": {},
   "outputs": [],
   "source": [
    "class NeuralNetwork:\n",
    "    def __init__(self, layer_count=0):\n",
    "        self.prediction = 0.1\n",
    "        self.layers = [NeuralLayer(\"add\") for layer in range(layer_count)]\n",
    "        \n",
    "    def predict(self):\n",
    "        for layer in self.layers:\n",
    "            self.prediction = layer.forward(self.prediction)\n",
    "        \n",
    "        return self.prediction\n",
    "    \n",
    "class NeuralLayer:\n",
    "    def __init__(self, activation_type=\"multiply\"):\n",
    "        self.activation = activation_type\n",
    "        \n",
    "    def forward(self, value):\n",
    "        if self.activation == \"multiply\":\n",
    "            return value*2\n",
    "        elif self.activation == \"add\":\n",
    "            return value+2"
   ]
  },
  {
   "cell_type": "code",
   "execution_count": 44,
   "id": "fa2a7fc4",
   "metadata": {},
   "outputs": [
    {
     "name": "stdout",
     "output_type": "stream",
     "text": [
      "1000.1\n",
      "2000.1\n",
      "3000.1\n",
      "4000.1\n",
      "5000.1\n",
      "6000.1\n",
      "7000.1\n",
      "8000.1\n",
      "9000.1\n",
      "10000.1\n",
      "11000.1\n",
      "12000.1\n",
      "13000.1\n",
      "14000.1\n",
      "15000.1\n",
      "16000.1\n",
      "17000.1\n",
      "18000.1\n",
      "19000.1\n",
      "20000.1\n"
     ]
    }
   ],
   "source": [
    "net = NeuralNetwork(500)\n",
    "results = []\n",
    "\n",
    "for run in range(20):\n",
    "    results.append(net.predict())\n",
    "    \n",
    "for result in results:\n",
    "    print(result)"
   ]
  },
  {
   "cell_type": "markdown",
   "id": "c508bf53",
   "metadata": {},
   "source": [
    "<center><h2>Conclusion</h2></center>"
   ]
  },
  {
   "cell_type": "markdown",
   "id": "d0c8f165",
   "metadata": {},
   "source": [
    "This concludes this notebook. At this point you should have enough knowledge to effectively move forward and learn about NumPy and Pandas to begin your machine learning journey!"
   ]
  },
  {
   "cell_type": "code",
   "execution_count": null,
   "id": "2b4ddccf",
   "metadata": {},
   "outputs": [],
   "source": []
  }
 ],
 "metadata": {
  "kernelspec": {
   "display_name": "Python 3 (ipykernel)",
   "language": "python",
   "name": "python3"
  },
  "language_info": {
   "codemirror_mode": {
    "name": "ipython",
    "version": 3
   },
   "file_extension": ".py",
   "mimetype": "text/x-python",
   "name": "python",
   "nbconvert_exporter": "python",
   "pygments_lexer": "ipython3",
   "version": "3.9.13"
  }
 },
 "nbformat": 4,
 "nbformat_minor": 5
}
